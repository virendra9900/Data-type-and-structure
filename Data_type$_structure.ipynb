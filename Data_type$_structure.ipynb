{
  "nbformat": 4,
  "nbformat_minor": 0,
  "metadata": {
    "colab": {
      "provenance": []
    },
    "kernelspec": {
      "name": "python3",
      "display_name": "Python 3"
    },
    "language_info": {
      "name": "python"
    }
  },
  "cells": [
    {
      "cell_type": "markdown",
      "source": [
        "# ***Theory*** Questions of DATA STRUCTURE\n",
        "\n",
        "\n",
        "---\n",
        "\n"
      ],
      "metadata": {
        "id": "i7eZ7FZJYFrl"
      }
    },
    {
      "cell_type": "markdown",
      "source": [
        "Question 1: What are data structures, and why are they important?\n",
        "\n",
        "   ANSWER- Data structures are ways to store and organize data in a computer efficiently so that operations like access, insertion, deletion, and search can be performed quickly. They are essential because they help manage data in an optimized way, making algorithms run faster and use memory efficiently.\n",
        "\n",
        "**Examples of data structures:**\n",
        "\n",
        "1.Lists - Dynamic arrays that allow fast insertions and deletions.\n",
        "\n",
        "2.Tuples - Immutable sequences that store multiple values.\n",
        "\n",
        "3.Dictionaries - Key-value pairs that allow fast lookups.\n",
        "\n",
        "4.Sets - Collections of unique elements that prevent duplicates.\n",
        "\n",
        "5.Stacks & Queues - Used in algorithms like recursion and scheduling.\n",
        "\n",
        "6.Trees & Graphs - Used in complex structures like file systems and social networks.\n",
        "\n",
        "**Importance of data structures:**\n",
        "\n",
        ".They increase efficiency in operations like sorting and searching.\n",
        "\n",
        ".They reduce memory usage by organizing data optimally.\n",
        "\n",
        ".They enable complex problem-solving, like AI and databases."
      ],
      "metadata": {
        "id": "_hK7xCKSYnoo"
      }
    },
    {
      "cell_type": "markdown",
      "source": [
        "Question 2:  Explain the difference between mutable and immutable data types with examples.\n",
        "   \n",
        "   ANSWER:  A mutable object can be changed after it is created, whereas an immutable object cannot be changed once created.\n",
        "\n",
        "**Mutable Objects (Can be changed):**\n",
        ".Lists\n",
        ".Dictionaries\n",
        ".Sets\n",
        "**Immutable Objects (Cannot be changed):**\n",
        ".Strings\n",
        ".Tuples\n",
        ".Integers & Floats"
      ],
      "metadata": {
        "id": "GvMnnZHxaSaD"
      }
    },
    {
      "cell_type": "markdown",
      "source": [
        "**Example of a mutable object (List):**\n"
      ],
      "metadata": {
        "id": "VT9HdRdTbP6b"
      }
    },
    {
      "cell_type": "code",
      "execution_count": null,
      "metadata": {
        "colab": {
          "base_uri": "https://localhost:8080/"
        },
        "id": "_VkkHuBDX8oT",
        "outputId": "e5e5fa34-85d2-4c37-f9ec-62d33d21c30e"
      },
      "outputs": [
        {
          "output_type": "stream",
          "name": "stdout",
          "text": [
            "[1, 2, 3, 4]\n"
          ]
        }
      ],
      "source": [
        "\n",
        "my_list = [1, 2, 3]\n",
        "my_list.append(4)  # Modifies the list\n",
        "print(my_list)  # Output: [1, 2, 3, 4]"
      ]
    },
    {
      "cell_type": "markdown",
      "source": [
        "Question 3: What are the main differences between lists and tuples in Python?\n",
        "\n",
        "   ANSWER:   \n",
        "     ![image.png](data:image/png;base64,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)\n",
        "\n",
        "\n",
        "\n"
      ],
      "metadata": {
        "id": "WU4D_4I3cR1o"
      }
    },
    {
      "cell_type": "code",
      "source": [
        "# List (can be modified)\n",
        "my_list = [1, 2, 3]\n",
        "my_list.append(4)\n",
        "print(my_list)  # Output: [1, 2, 3, 4]\n",
        "\n",
        "# Tuple (cannot be modified)\n",
        "my_tuple = (1, 2, 3)\n",
        "# my_tuple[1] = 5  # ❌ Raises TypeError"
      ],
      "metadata": {
        "colab": {
          "base_uri": "https://localhost:8080/"
        },
        "id": "mkQQQcf3d1iY",
        "outputId": "7fb9a452-f66d-47da-f727-1fb5c7071205"
      },
      "execution_count": null,
      "outputs": [
        {
          "output_type": "stream",
          "name": "stdout",
          "text": [
            "[1, 2, 3, 4]\n"
          ]
        }
      ]
    },
    {
      "cell_type": "markdown",
      "source": [],
      "metadata": {
        "id": "2-QwA_pQbbF5"
      }
    },
    {
      "cell_type": "markdown",
      "source": [
        "Question 4: Describe how dictionaries store data.\n",
        "\n",
        "  ANSWER:  Dictionaries in Python store data as key-value pairs using a hash table internally.\n",
        "\n",
        "Each key is hashed to generate a unique index, allowing for fast access. Unlike lists, dictionaries do not store elements in order."
      ],
      "metadata": {
        "id": "AkPMo2s_ecDV"
      }
    },
    {
      "cell_type": "markdown",
      "source": [
        "**Example of a dictionary:**"
      ],
      "metadata": {
        "id": "vH6W4WQvepjD"
      }
    },
    {
      "cell_type": "code",
      "source": [
        "student = {\"name\": \"Alice\", \"age\": 25}\n",
        "print(student[\"name\"])  # Output: Alice\n",
        "# Since dictionaries use hashing, accessing an element has an average time complexity of O(1) (constant time)."
      ],
      "metadata": {
        "colab": {
          "base_uri": "https://localhost:8080/"
        },
        "id": "46uVMBj9fEpT",
        "outputId": "70a11be3-a4c6-4eed-d548-ad9c2ab4d2f3"
      },
      "execution_count": null,
      "outputs": [
        {
          "output_type": "stream",
          "name": "stdout",
          "text": [
            "Alice\n"
          ]
        }
      ]
    },
    {
      "cell_type": "markdown",
      "source": [
        "Question 5: Why might you use a set instead of a list in Python?\n",
        "\n",
        "\n",
        "  ANSWER:Sets are useful in situations where:\n",
        "\n",
        "1.Duplicate values should be removed automatically.\n",
        "\n",
        "2.Fast lookups are required (O(1) complexity vs. O(n) in lists)."
      ],
      "metadata": {
        "id": "e76_QwUKfrGa"
      }
    },
    {
      "cell_type": "markdown",
      "source": [
        "**Example:**"
      ],
      "metadata": {
        "id": "90NK6B3TgFkD"
      }
    },
    {
      "cell_type": "code",
      "source": [
        "my_list = [1, 2, 2, 3, 4]\n",
        "my_set = set(my_list)  # Removes duplicates\n",
        "print(my_set)  # Output: {1, 2, 3, 4}\n",
        "\n"
      ],
      "metadata": {
        "colab": {
          "base_uri": "https://localhost:8080/"
        },
        "id": "SIVAgPUigsla",
        "outputId": "6af8b40b-2f9d-4dc1-d9b3-242e9b867d57"
      },
      "execution_count": null,
      "outputs": [
        {
          "output_type": "stream",
          "name": "stdout",
          "text": [
            "{1, 2, 3, 4}\n"
          ]
        }
      ]
    },
    {
      "cell_type": "markdown",
      "source": [
        "Question 6: What is a string in Python, and how is it different from a list?\n",
        "\n",
        "\n",
        " ANSWER:  A string is an immutable sequence of characters, whereas a list is mutable and can contain different data types.\n",
        "\n",
        "Differences between strings and lists:\n",
        "![image.png](data:image/png;base64,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)\n"
      ],
      "metadata": {
        "id": "h4SmStFlhNRe"
      }
    },
    {
      "cell_type": "code",
      "source": [
        "# Strings are immutable\n",
        "text = \"Hello\"\n",
        "# text[0] = \"M\"  # ❌ Raises TypeError\n",
        "\n",
        "# Lists are mutable\n",
        "my_list = [\"H\", \"e\", \"l\", \"l\", \"o\"]\n",
        "my_list[0] = \"M\"\n",
        "print(my_list)  # Output: ['M', 'e', 'l', 'l', 'o']"
      ],
      "metadata": {
        "colab": {
          "base_uri": "https://localhost:8080/"
        },
        "id": "fDiyh939iXaV",
        "outputId": "08a4ac98-2236-48a3-a990-1f308adb7221"
      },
      "execution_count": null,
      "outputs": [
        {
          "output_type": "stream",
          "name": "stdout",
          "text": [
            "['M', 'e', 'l', 'l', 'o']\n"
          ]
        }
      ]
    },
    {
      "cell_type": "markdown",
      "source": [
        "Question 7: How do tuples ensure data integrity in Python?\n",
        "\n",
        "  ANSWER:Tuples are immutable, meaning once created, they cannot be changed. This prevents accidental modifications, making them ideal for storing constant values or database records.\n",
        "\n",
        "\n",
        "  **EXAMPLE**"
      ],
      "metadata": {
        "id": "ho4umMbOilS0"
      }
    },
    {
      "cell_type": "code",
      "source": [
        "oordinates = (10.5, 20.7)\n",
        "# coordinates[0] = 15.0  # ❌ Raises TypeError (cannot modify a tuple)\n",
        "\n"
      ],
      "metadata": {
        "id": "ehzO2wRBi1eu"
      },
      "execution_count": null,
      "outputs": []
    },
    {
      "cell_type": "markdown",
      "source": [
        "his ensures data integrity because values cannot be altered unexpectedly.\n",
        "\n"
      ],
      "metadata": {
        "id": "3ZWGxVetjGWN"
      }
    },
    {
      "cell_type": "markdown",
      "source": [
        "Question 8: What is a hash table, and how does it relate to dictionaries in Python?\n",
        "\n",
        "\n",
        "ANSWER:A hash table is a data structure that stores key-value pairs using a hashing function to compute an index for each key.\n",
        "\n",
        "Python dictionaries are implemented using hash tables, making them very fast for lookups (O(1) average case).\n",
        "\n",
        "\n",
        "**EXAMPLE**"
      ],
      "metadata": {
        "id": "NvxtIdd0jHKc"
      }
    },
    {
      "cell_type": "code",
      "source": [
        "my_dict = {\"apple\": 10, \"banana\": 20}\n",
        "print(my_dict[\"banana\"])  # Output: 20"
      ],
      "metadata": {
        "colab": {
          "base_uri": "https://localhost:8080/"
        },
        "id": "1Z4zYFINjWkj",
        "outputId": "e6f1d469-46ef-42fc-e1e6-ddc71684acb0"
      },
      "execution_count": null,
      "outputs": [
        {
          "output_type": "stream",
          "name": "stdout",
          "text": [
            "20\n"
          ]
        }
      ]
    },
    {
      "cell_type": "markdown",
      "source": [
        "Dictionaries leverage hash tables to store and retrieve values efficiently."
      ],
      "metadata": {
        "id": "XxtHWXT6jnHN"
      }
    },
    {
      "cell_type": "markdown",
      "source": [
        "Question 9: Can lists contain different data types in Python?\n",
        "\n",
        "\n",
        " ANSWER: Yes, Python allows lists to store multiple data types within a single list.\n",
        "\n",
        "\n",
        "** Example:**"
      ],
      "metadata": {
        "id": "AW81aZ27joIy"
      }
    },
    {
      "cell_type": "code",
      "source": [
        "mixed_list = [1, \"hello\", 3.14, [1, 2, 3]]\n",
        "print(mixed_list)  # Output: [1, 'hello', 3.14, [1, 2, 3]]"
      ],
      "metadata": {
        "colab": {
          "base_uri": "https://localhost:8080/"
        },
        "id": "oEWBshhxj5qS",
        "outputId": "33114a1e-fdb0-41b6-9a5f-364c1dcbd10f"
      },
      "execution_count": null,
      "outputs": [
        {
          "output_type": "stream",
          "name": "stdout",
          "text": [
            "[1, 'hello', 3.14, [1, 2, 3]]\n"
          ]
        }
      ]
    },
    {
      "cell_type": "markdown",
      "source": [
        "Since Python is dynamically typed, lists can contain numbers, strings, and even other lists or dictionaries."
      ],
      "metadata": {
        "id": "8lBN-JeNkNzA"
      }
    },
    {
      "cell_type": "markdown",
      "source": [
        "Question 10: Explain why strings are immutable in Python.\n",
        "\n",
        "\n",
        " ANSWER: Strings in Python are immutable because:\n",
        "\n",
        "\n",
        "1.  They are stored efficiently in memory (reducing overhead).\n",
        "2.   They prevent accidental modification of data.\n",
        "3. They enable safe usage in dictionaries and sets (because they can be hashed).\n",
        "\n",
        "\n",
        "**EXAMPLE**\n",
        "\n"
      ],
      "metadata": {
        "id": "ZfZRHfrXkcig"
      }
    },
    {
      "cell_type": "code",
      "source": [
        "text = \"Hello\"\n",
        "# text[0] = \"M\"  # ❌ Raises TypeError\n",
        "\n",
        "# Instead, we create a new string:\n",
        "new_text = \"M\" + text[1:]\n",
        "print(new_text)  # Output: \"Mello\""
      ],
      "metadata": {
        "colab": {
          "base_uri": "https://localhost:8080/"
        },
        "id": "NXqBUgB2lDlw",
        "outputId": "392dc5fc-5f04-4c68-8842-6293d50e5d8e"
      },
      "execution_count": null,
      "outputs": [
        {
          "output_type": "stream",
          "name": "stdout",
          "text": [
            "Mello\n"
          ]
        }
      ]
    },
    {
      "cell_type": "markdown",
      "source": [
        "Instead of modifying strings directly, Python creates a new string when changes are needed."
      ],
      "metadata": {
        "id": "eWFBmqf8lH7f"
      }
    },
    {
      "cell_type": "markdown",
      "source": [
        "Question 11: What advantages do dictionaries offer over lists for certain tasks?\n",
        "\n",
        "   ANSWER: Dictionaries are more efficient than lists in certain situations:\n",
        "\n",
        "1. Faster Lookups (O(1) vs. O(n))\n",
        "\n",
        "\n",
        "*   Dictionaries use a hash table to store key-value pairs, so retrieving a value by key takes constant time (O(1)).\n",
        "\n",
        "*   Lists require scanning (O(n)) to find an element\n",
        "\n",
        "\n",
        "\n",
        "\n",
        "**EXAMPLE**\n",
        "\n"
      ],
      "metadata": {
        "id": "B29IEGlflJUH"
      }
    },
    {
      "cell_type": "code",
      "source": [
        "# Using a dictionary\n",
        "student_grades = {\"Alice\": \"A\", \"Bob\": \"B\"}\n",
        "print(student_grades[\"Alice\"])  # O(1)\n",
        "\n",
        "# Using a list (inefficient for lookup)\n",
        "students = [(\"Alice\", \"A\"), (\"Bob\", \"B\")]\n",
        "for name, grade in students:\n",
        "    if name == \"Alice\":\n",
        "        print(grade)  # O(n)"
      ],
      "metadata": {
        "colab": {
          "base_uri": "https://localhost:8080/"
        },
        "id": "tBThxnK-nRQg",
        "outputId": "b49af46a-46df-4a75-c428-b6d3ff44e405"
      },
      "execution_count": null,
      "outputs": [
        {
          "output_type": "stream",
          "name": "stdout",
          "text": [
            "A\n",
            "A\n"
          ]
        }
      ]
    },
    {
      "cell_type": "markdown",
      "source": [
        "2. Meaningful Data Storage¶\n",
        "Dictionary keys act as labels, making data retrieval intuitive.\n",
        "\n",
        "3. No Duplicates in Keys\n",
        "Unlike lists, dictionaries prevent duplicate keys.\n"
      ],
      "metadata": {
        "id": "1yCtzgecnW2z"
      }
    },
    {
      "cell_type": "markdown",
      "source": [
        "Question 12: Describe a scenario where using a tuple would be preferable over a list.\n",
        "\n",
        " ANSWER: Tuples are preferable when data should not be modified.\n",
        "\n",
        " cenario 1: Storing Fixed Coordinates\n"
      ],
      "metadata": {
        "id": "_8PWpIvvnaQk"
      }
    },
    {
      "cell_type": "code",
      "source": [
        "ocation = (40.7128, 74.0060)  # New York City latitude & longitude\n"
      ],
      "metadata": {
        "id": "DirfgUJtn7n6"
      },
      "execution_count": null,
      "outputs": []
    },
    {
      "cell_type": "markdown",
      "source": [
        "Coordinates should not change, so a tuple is ideal"
      ],
      "metadata": {
        "id": "d05DiU4xoLiz"
      }
    },
    {
      "cell_type": "markdown",
      "source": [
        "Scenario 2: Dictionary Keys\n",
        "\n",
        "Tuples can be used as keys in dictionaries, while lists cannot."
      ],
      "metadata": {
        "id": "yA9KmPrgoSNK"
      }
    },
    {
      "cell_type": "code",
      "source": [
        "locations = {\n",
        "    (40.7128, 74.0060): \"New York\",\n",
        "    (34.0522, -118.2437): \"Los Angeles\"\n",
        "}"
      ],
      "metadata": {
        "id": "s_oy3RQBoW7R"
      },
      "execution_count": null,
      "outputs": []
    },
    {
      "cell_type": "markdown",
      "source": [
        ". Lists cannot be used as dictionary keys since they are mutable.\n"
      ],
      "metadata": {
        "id": "GEKzlywGocyk"
      }
    },
    {
      "cell_type": "markdown",
      "source": [
        "Question 13: How do sets handle duplicate values in Python?\n",
        "\n",
        "\n",
        " ANSWER: Sets automatically remove duplicates when elements are added.\n",
        "\n",
        " **EXAMPLE**\n"
      ],
      "metadata": {
        "id": "8hSv8Pojoimi"
      }
    },
    {
      "cell_type": "code",
      "source": [
        "numbers = {1, 2, 2, 3, 4, 4}\n",
        "print(numbers)  # Output: {1, 2, 3, 4} (duplicates removed)"
      ],
      "metadata": {
        "colab": {
          "base_uri": "https://localhost:8080/"
        },
        "id": "5voQVUJkowAJ",
        "outputId": "988db8a9-2cea-45f3-87ed-77222840a549"
      },
      "execution_count": null,
      "outputs": [
        {
          "output_type": "stream",
          "name": "stdout",
          "text": [
            "{1, 2, 3, 4}\n"
          ]
        }
      ]
    },
    {
      "cell_type": "markdown",
      "source": [
        "Why?\n",
        "\n",
        "Sets use hash tables to store values, ensuring each value is unique."
      ],
      "metadata": {
        "id": "3WR4emfWo1ip"
      }
    },
    {
      "cell_type": "markdown",
      "source": [
        "Question 14: How does the “in” keyword work differently for lists and dictionaries?\n",
        "For Lists (O(n))\n",
        "\n",
        ".The in operator checks every element in the list, making it slow (O(n))."
      ],
      "metadata": {
        "id": "gJpoSBv3pOxw"
      }
    },
    {
      "cell_type": "code",
      "source": [
        "nums = [10, 20, 30, 40]\n",
        "print(20 in nums)  # True (searches through the list)"
      ],
      "metadata": {
        "colab": {
          "base_uri": "https://localhost:8080/"
        },
        "id": "Y7xHB6VTpce4",
        "outputId": "b4b11cb4-b6a6-4cae-f402-42b8b9b26c35"
      },
      "execution_count": null,
      "outputs": [
        {
          "output_type": "stream",
          "name": "stdout",
          "text": [
            "True\n"
          ]
        }
      ]
    },
    {
      "cell_type": "markdown",
      "source": [
        "For Dictionaries (O(1))\n",
        "\n",
        "The in operator checks only keys, making lookups fast (O(1))."
      ],
      "metadata": {
        "id": "y8n4r3jLpfao"
      }
    },
    {
      "cell_type": "code",
      "source": [
        "my_dict = {\"name\": \"Alice\", \"age\": 25}\n",
        "print(\"name\" in my_dict)  # True (direct hash table lookup)"
      ],
      "metadata": {
        "colab": {
          "base_uri": "https://localhost:8080/"
        },
        "id": "OzDHqNTEpmvj",
        "outputId": "a75ebe66-907f-4865-a493-31b2a8a368d7"
      },
      "execution_count": null,
      "outputs": [
        {
          "output_type": "stream",
          "name": "stdout",
          "text": [
            "True\n"
          ]
        }
      ]
    },
    {
      "cell_type": "markdown",
      "source": [
        "Important: in checks keys, not values."
      ],
      "metadata": {
        "id": "YgRiNcnppq7g"
      }
    },
    {
      "cell_type": "code",
      "source": [
        "print(\"Alice\" in my_dict)  # False"
      ],
      "metadata": {
        "colab": {
          "base_uri": "https://localhost:8080/"
        },
        "id": "9wVIl2TApuJo",
        "outputId": "4099526a-6601-4b5b-efa9-7a50d7d78027"
      },
      "execution_count": null,
      "outputs": [
        {
          "output_type": "stream",
          "name": "stdout",
          "text": [
            "False\n"
          ]
        }
      ]
    },
    {
      "cell_type": "markdown",
      "source": [
        "Question 15: Can you modify the elements of a tuple? Explain why or why not.\n",
        "\n",
        "ANSWER:No, tuples are immutable, meaning elements cannot be changed after creation."
      ],
      "metadata": {
        "id": "W7YHdzc3pyQg"
      }
    },
    {
      "cell_type": "code",
      "source": [
        "my_tuple = (1, 2, 3)\n",
        "my_tuple [1] = 5  # TypeError: 'tuple' object does not support item assignment"
      ],
      "metadata": {
        "colab": {
          "base_uri": "https://localhost:8080/",
          "height": 165
        },
        "id": "Vl36e-ZBq-JW",
        "outputId": "e6299c09-33d5-41f6-ca97-95bf81ce1e14"
      },
      "execution_count": 1,
      "outputs": [
        {
          "output_type": "error",
          "ename": "TypeError",
          "evalue": "'tuple' object does not support item assignment",
          "traceback": [
            "\u001b[0;31m---------------------------------------------------------------------------\u001b[0m",
            "\u001b[0;31mTypeError\u001b[0m                                 Traceback (most recent call last)",
            "\u001b[0;32m<ipython-input-1-2641809598>\u001b[0m in \u001b[0;36m<cell line: 0>\u001b[0;34m()\u001b[0m\n\u001b[1;32m      1\u001b[0m \u001b[0mmy_tuple\u001b[0m \u001b[0;34m=\u001b[0m \u001b[0;34m(\u001b[0m\u001b[0;36m1\u001b[0m\u001b[0;34m,\u001b[0m \u001b[0;36m2\u001b[0m\u001b[0;34m,\u001b[0m \u001b[0;36m3\u001b[0m\u001b[0;34m)\u001b[0m\u001b[0;34m\u001b[0m\u001b[0;34m\u001b[0m\u001b[0m\n\u001b[0;32m----> 2\u001b[0;31m \u001b[0mmy_tuple\u001b[0m \u001b[0;34m[\u001b[0m\u001b[0;36m1\u001b[0m\u001b[0;34m]\u001b[0m \u001b[0;34m=\u001b[0m \u001b[0;36m5\u001b[0m  \u001b[0;31m# TypeError: 'tuple' object does not support item assignment\u001b[0m\u001b[0;34m\u001b[0m\u001b[0;34m\u001b[0m\u001b[0m\n\u001b[0m",
            "\u001b[0;31mTypeError\u001b[0m: 'tuple' object does not support item assignment"
          ]
        }
      ]
    },
    {
      "cell_type": "markdown",
      "source": [
        "Why?\n",
        "\n",
        "1.Prevents accidental modifications\n",
        "2.Optimized for speed and memory usage\n",
        "3.Allows safe use as dictionary keys\n",
        "\n",
        "However, if a tuple contains mutable elements, those can be modified:"
      ],
      "metadata": {
        "id": "EEAO5oIB5vKS"
      }
    },
    {
      "cell_type": "code",
      "source": [
        "nested_tuple = ([1, 2, 3], \"fixed\")\n",
        "nested_tuple[0].append(4)  # Works, modifies list inside tuple\n",
        "print(nested_tuple)  # ([1, 2, 3, 4], 'fixed')"
      ],
      "metadata": {
        "colab": {
          "base_uri": "https://localhost:8080/"
        },
        "id": "7HSsoKGT6DSV",
        "outputId": "b9f6c52e-940a-433b-8edc-1d01724f7145"
      },
      "execution_count": 2,
      "outputs": [
        {
          "output_type": "stream",
          "name": "stdout",
          "text": [
            "([1, 2, 3, 4], 'fixed')\n"
          ]
        }
      ]
    },
    {
      "cell_type": "markdown",
      "source": [
        "Question 16: What is a nested dictionary, and give an example of its use case?\n",
        "\n",
        "\n",
        " ANSWER:  A nested dictionary is a dictionary inside another dictionary. It’s useful for storing hierarchical data."
      ],
      "metadata": {
        "id": "3cz2ofSG6Ff2"
      }
    },
    {
      "cell_type": "markdown",
      "source": [
        "Example: Storing Student Records"
      ],
      "metadata": {
        "id": "ttWvGMVC6RMV"
      }
    },
    {
      "cell_type": "code",
      "source": [
        "students = {\n",
        "    \"Alice\": {\"age\": 22, \"grade\": \"A\"},\n",
        "    \"Bob\": {\"age\": 24, \"grade\": \"B\"}\n",
        "}\n",
        "print(students[\"Alice\"][\"age\"])  # Output: 22\n"
      ],
      "metadata": {
        "colab": {
          "base_uri": "https://localhost:8080/"
        },
        "id": "trP8PfuL6SsU",
        "outputId": "fd6acfcc-5f57-4c40-dfbc-eeb0824875a7"
      },
      "execution_count": 3,
      "outputs": [
        {
          "output_type": "stream",
          "name": "stdout",
          "text": [
            "22\n"
          ]
        }
      ]
    },
    {
      "cell_type": "markdown",
      "source": [
        "Question 17: Describe the time complexity of accessing elements in a dictionary.\n",
        "\n",
        "\n",
        "ANSWER:\n",
        "\n",
        ".Average case: O(1) (constant time lookup using a hash function)\n",
        ".Worst case: O(n) (rare cases when hash collisions occur)\n",
        "\n",
        "\n",
        "Example:\n"
      ],
      "metadata": {
        "id": "5fEJjyzH6Ymc"
      }
    },
    {
      "cell_type": "code",
      "source": [
        "my_dict = {\"a\": 10, \"b\": 20, \"c\": 30}\n",
        "print(my_dict[\"b\"])  # O(1) lookup"
      ],
      "metadata": {
        "colab": {
          "base_uri": "https://localhost:8080/"
        },
        "id": "l1QvVI356nUM",
        "outputId": "3771fdf9-96e4-4f22-9dbe-a418d1209427"
      },
      "execution_count": 4,
      "outputs": [
        {
          "output_type": "stream",
          "name": "stdout",
          "text": [
            "20\n"
          ]
        }
      ]
    },
    {
      "cell_type": "markdown",
      "source": [
        "Question 18: In what situations are lists preferred over dictionaries?\n",
        "\n",
        "ANSWER:    \n",
        "1. Maintaining Order: Lists preserve insertion order (before Python 3.7, dictionaries didn't).\n",
        "2. Sequential Data Processing: Lists are better for operations like sorting and slicing.\n",
        "3. Memory Efficiency: Lists use less memory than dictionaries.\n",
        "\n",
        "\n",
        "\n",
        "Example: Sorting a list"
      ],
      "metadata": {
        "id": "z_W9Iaob6xqs"
      }
    },
    {
      "cell_type": "code",
      "source": [
        "numbers = [5, 3, 8, 1]\n",
        "numbers.sort()\n",
        "print(numbers)  # Output: [1, 3, 5, 8]\n"
      ],
      "metadata": {
        "colab": {
          "base_uri": "https://localhost:8080/"
        },
        "id": "2ycW8qgk6Nat",
        "outputId": "c86ddfd4-51cd-40e3-8935-bea9e45afc55"
      },
      "execution_count": 5,
      "outputs": [
        {
          "output_type": "stream",
          "name": "stdout",
          "text": [
            "[1, 3, 5, 8]\n"
          ]
        }
      ]
    },
    {
      "cell_type": "markdown",
      "source": [
        "Question 19: Why are dictionaries considered unordered, and how does that affect data retrieval?\n",
        "\n",
        "\n",
        "ANSWER:\n",
        "\n",
        "Before Python 3.7, dictionaries did not maintain order because they were implemented as hash tables.\n",
        "\n",
        ". Effect:\n",
        ". Unordered retrieval: Elements could appear in any sequence.\n",
        ". Fast lookups: No need for sequential scanning like lists.\n",
        "\n",
        "\n",
        "Example:"
      ],
      "metadata": {
        "id": "3TF90WMG7HVj"
      }
    },
    {
      "cell_type": "code",
      "source": [
        "d = {\"z\": 1, \"x\": 2, \"y\": 3}\n",
        "print(d)  # Before Python 3.7, order was unpredictable"
      ],
      "metadata": {
        "colab": {
          "base_uri": "https://localhost:8080/"
        },
        "id": "5G12Upry7SZ9",
        "outputId": "519dd71c-919b-4d49-b0db-2819b629ec05"
      },
      "execution_count": 6,
      "outputs": [
        {
          "output_type": "stream",
          "name": "stdout",
          "text": [
            "{'z': 1, 'x': 2, 'y': 3}\n"
          ]
        }
      ]
    },
    {
      "cell_type": "markdown",
      "source": [
        "From Python 3.7+, dictionaries preserve insertion order.\n",
        "\n"
      ],
      "metadata": {
        "id": "3BbVOfHJ7WCb"
      }
    },
    {
      "cell_type": "markdown",
      "source": [
        "Question 20: Explain the difference between a list and a dictionary in terms of data retrieval.\n",
        "\n",
        "\n",
        "ANSWER:\n",
        "\n",
        "![image.png](data:image/png;base64,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)"
      ],
      "metadata": {
        "id": "lAZNsZBZ7ZFs"
      }
    },
    {
      "cell_type": "code",
      "source": [
        "# List retrieval (O(n))\n",
        "my_list = [\"apple\", \"banana\", \"cherry\"]\n",
        "print(my_list[1])  # Output: \"banana\"\n",
        "\n",
        "# Dictionary retrieval (O(1))\n",
        "my_dict = {\"fruit1\": \"apple\", \"fruit2\": \"banana\"}\n",
        "print(my_dict[\"fruit2\"])  # Output: \"banana\"\n"
      ],
      "metadata": {
        "colab": {
          "base_uri": "https://localhost:8080/"
        },
        "id": "Bpw1zAxS7hmy",
        "outputId": "4eda1006-d5fd-4dff-9262-4d65e359538d"
      },
      "execution_count": 7,
      "outputs": [
        {
          "output_type": "stream",
          "name": "stdout",
          "text": [
            "banana\n",
            "banana\n"
          ]
        }
      ]
    },
    {
      "cell_type": "markdown",
      "source": [
        "***Practical Questions***"
      ],
      "metadata": {
        "id": "xYaExSed7nv6"
      }
    },
    {
      "cell_type": "markdown",
      "source": [
        "QUESTION 1: Write a code to create a string with your name and print it"
      ],
      "metadata": {
        "id": "w84Oqc-h7v8S"
      }
    },
    {
      "cell_type": "code",
      "source": [
        "# Creating a string with my name\n",
        "name = \"VIRENDRA SANJAY\"\n",
        "\n",
        "# Printing the name\n",
        "print(name)"
      ],
      "metadata": {
        "colab": {
          "base_uri": "https://localhost:8080/"
        },
        "id": "B_DZyx6_7zzq",
        "outputId": "6e6e4c9f-b44e-4306-e973-32ad3cfe4b38"
      },
      "execution_count": 9,
      "outputs": [
        {
          "output_type": "stream",
          "name": "stdout",
          "text": [
            "VIRENDRA SANJAY\n"
          ]
        }
      ]
    },
    {
      "cell_type": "markdown",
      "source": [
        "QUESTION 2: Write a code to find the length of the string \"Hello World\"."
      ],
      "metadata": {
        "id": "Uc7zXMqS78wC"
      }
    },
    {
      "cell_type": "code",
      "source": [
        "# Defining the string\n",
        "text = \"Hello World\"\n",
        "\n",
        "# Finding and printing the length of the string\n",
        "print(len(text))\n"
      ],
      "metadata": {
        "colab": {
          "base_uri": "https://localhost:8080/"
        },
        "id": "TYacB6T38B36",
        "outputId": "c372740f-ccd6-44c4-e3d1-c97a8a30c7c2"
      },
      "execution_count": 10,
      "outputs": [
        {
          "output_type": "stream",
          "name": "stdout",
          "text": [
            "11\n"
          ]
        }
      ]
    },
    {
      "cell_type": "markdown",
      "source": [
        "QUESTION 3: Write a code to slice the first 3 characters from the string \"Python Programming\".\n",
        "\n"
      ],
      "metadata": {
        "id": "yMX_GKlo8Hzr"
      }
    },
    {
      "cell_type": "code",
      "source": [
        "# Defining the string\n",
        "text = \"Python Programming\"\n",
        "\n",
        "# Slicing the first 3 characters\n",
        "sliced_text = text[:3]\n",
        "\n",
        "# Printing the result\n",
        "print(sliced_text)\n"
      ],
      "metadata": {
        "colab": {
          "base_uri": "https://localhost:8080/"
        },
        "id": "H69ngQrf8Klx",
        "outputId": "67dcff29-72dc-48e6-8ed0-593c55b66d28"
      },
      "execution_count": 11,
      "outputs": [
        {
          "output_type": "stream",
          "name": "stdout",
          "text": [
            "Pyt\n"
          ]
        }
      ]
    },
    {
      "cell_type": "markdown",
      "source": [
        "QUESTION 4: Write a code to convert the string \"hello\" to uppercase.\n",
        "\n"
      ],
      "metadata": {
        "id": "GOoLPc8t8OES"
      }
    },
    {
      "cell_type": "code",
      "source": [
        "# Defining the string\n",
        "text = \"hello\"\n",
        "\n",
        "# Converting to uppercase\n",
        "uppercase_text = text.upper()\n",
        "\n",
        "# Printing the result\n",
        "print(uppercase_text)\n"
      ],
      "metadata": {
        "colab": {
          "base_uri": "https://localhost:8080/"
        },
        "id": "nkEmhkgn8Q67",
        "outputId": "c41798b9-d5e6-4633-82e5-fd6d8d883fd9"
      },
      "execution_count": 12,
      "outputs": [
        {
          "output_type": "stream",
          "name": "stdout",
          "text": [
            "HELLO\n"
          ]
        }
      ]
    },
    {
      "cell_type": "markdown",
      "source": [
        "QUESTION 5: Write a code to replace the word \"apple\" with \"orange\" in the string \"I like apple\".\n",
        "\n"
      ],
      "metadata": {
        "id": "JtJ8cY8E8TyC"
      }
    },
    {
      "cell_type": "code",
      "source": [
        "# Defining the string\n",
        "text = \"I like apple\"\n",
        "\n",
        "# Replacing \"apple\" with \"orange\"\n",
        "modified_text = text.replace(\"apple\", \"orange\")\n",
        "\n",
        "# Printing the result\n",
        "print(modified_text)\n"
      ],
      "metadata": {
        "colab": {
          "base_uri": "https://localhost:8080/"
        },
        "id": "-ValgokO8WXh",
        "outputId": "39802068-278c-4f7b-f180-cd4d4395f4d7"
      },
      "execution_count": 13,
      "outputs": [
        {
          "output_type": "stream",
          "name": "stdout",
          "text": [
            "I like orange\n"
          ]
        }
      ]
    },
    {
      "cell_type": "markdown",
      "source": [
        "QUESTION 6: Write a code to create a list with numbers 1 to 5 and print it.\n",
        "\n"
      ],
      "metadata": {
        "id": "IPD7_fFD8ZNy"
      }
    },
    {
      "cell_type": "code",
      "source": [
        "# Creating a list with numbers 1 to 5\n",
        "numbers = [1, 2, 3, 4, 5]\n",
        "\n",
        "# Printing the list\n",
        "print(numbers)\n"
      ],
      "metadata": {
        "colab": {
          "base_uri": "https://localhost:8080/"
        },
        "id": "gRx6vBwj8cKr",
        "outputId": "f47834f9-3e2c-4fbe-ba3b-d54b5eca29ef"
      },
      "execution_count": 14,
      "outputs": [
        {
          "output_type": "stream",
          "name": "stdout",
          "text": [
            "[1, 2, 3, 4, 5]\n"
          ]
        }
      ]
    },
    {
      "cell_type": "markdown",
      "source": [
        "QUESTION 7: Write a code to append the number 10 to the list [1, 2, 3, 4].\n",
        "\n"
      ],
      "metadata": {
        "id": "jQHiAjci8fFK"
      }
    },
    {
      "cell_type": "code",
      "source": [
        "# Defining the list\n",
        "numbers = [1, 2, 3, 4]\n",
        "\n",
        "# Appending the number 10\n",
        "numbers.append(10)\n",
        "\n",
        "# Printing the updated list\n",
        "print(numbers)\n"
      ],
      "metadata": {
        "colab": {
          "base_uri": "https://localhost:8080/"
        },
        "id": "n3vjVHlI8iGR",
        "outputId": "ef38c7f5-592c-444b-c3cf-3252096fae32"
      },
      "execution_count": 15,
      "outputs": [
        {
          "output_type": "stream",
          "name": "stdout",
          "text": [
            "[1, 2, 3, 4, 10]\n"
          ]
        }
      ]
    },
    {
      "cell_type": "markdown",
      "source": [
        "QUESTION 8: Write a code to remove the number 3 from the list [1, 2, 3, 4, 5]."
      ],
      "metadata": {
        "id": "yMuGR1q68luw"
      }
    },
    {
      "cell_type": "code",
      "source": [
        "# Defining the list\n",
        "numbers = [1, 2, 3, 4, 5]\n",
        "\n",
        "# Removing the number 3\n",
        "numbers.remove(3)\n",
        "\n",
        "# Printing the updated list\n",
        "print(numbers)"
      ],
      "metadata": {
        "colab": {
          "base_uri": "https://localhost:8080/"
        },
        "id": "nvKXgav98pHo",
        "outputId": "8a1324d1-b8da-44ff-8ec6-d8a78e3371cf"
      },
      "execution_count": 16,
      "outputs": [
        {
          "output_type": "stream",
          "name": "stdout",
          "text": [
            "[1, 2, 4, 5]\n"
          ]
        }
      ]
    },
    {
      "cell_type": "markdown",
      "source": [
        "QUESTION 9: Write a code to access the second element in the list ['a', 'b', 'c', 'd']."
      ],
      "metadata": {
        "id": "_lAtQ_gj8uCB"
      }
    },
    {
      "cell_type": "code",
      "source": [
        "# Defining the list\n",
        "letters = ['a', 'b', 'c', 'd']\n",
        "\n",
        "# Accessing the second element\n",
        "second_element = letters[1]\n",
        "\n",
        "# Printing the result\n",
        "print(second_element)\n"
      ],
      "metadata": {
        "colab": {
          "base_uri": "https://localhost:8080/"
        },
        "id": "aABuwWpg8vt4",
        "outputId": "cc0fbc59-dea7-4d77-de77-6a22f331b47d"
      },
      "execution_count": 17,
      "outputs": [
        {
          "output_type": "stream",
          "name": "stdout",
          "text": [
            "b\n"
          ]
        }
      ]
    },
    {
      "cell_type": "markdown",
      "source": [
        "QUESTION 10: Write a code to reverse the list [10, 20, 30, 40, 50].\n",
        "\n"
      ],
      "metadata": {
        "id": "GWRCUfc_811S"
      }
    },
    {
      "cell_type": "code",
      "source": [
        "# Defining the list\n",
        "numbers = [10, 20, 30, 40, 50]\n",
        "\n",
        "# Reversing the list\n",
        "numbers.reverse()\n",
        "\n",
        "# Printing the reversed list\n",
        "print(numbers)\n"
      ],
      "metadata": {
        "colab": {
          "base_uri": "https://localhost:8080/"
        },
        "id": "lkSh-aso82oK",
        "outputId": "a60f8d8c-fbbe-45ff-aef5-0aa7ee944baf"
      },
      "execution_count": 18,
      "outputs": [
        {
          "output_type": "stream",
          "name": "stdout",
          "text": [
            "[50, 40, 30, 20, 10]\n"
          ]
        }
      ]
    },
    {
      "cell_type": "markdown",
      "source": [
        "QUESTION 11: Write a code to create a tuple with the elements 100, 200, 300 and print it."
      ],
      "metadata": {
        "id": "B-5DOMaQ9CTS"
      }
    },
    {
      "cell_type": "code",
      "source": [
        "# Creating a tuple\n",
        "numbers_tuple = (100, 200, 300)\n",
        "\n",
        "# Printing the tuple\n",
        "print(numbers_tuple)\n"
      ],
      "metadata": {
        "colab": {
          "base_uri": "https://localhost:8080/"
        },
        "id": "U0vN5fm99DFg",
        "outputId": "5dcd6a22-baf1-467e-eae7-41f428e4521e"
      },
      "execution_count": 19,
      "outputs": [
        {
          "output_type": "stream",
          "name": "stdout",
          "text": [
            "(100, 200, 300)\n"
          ]
        }
      ]
    },
    {
      "cell_type": "markdown",
      "source": [
        "QUESTION 12: Write a code to access the second-to-last element of the tuple ('red', 'green', 'blue', 'yellow')."
      ],
      "metadata": {
        "id": "D6qvKS7O9vLW"
      }
    },
    {
      "cell_type": "code",
      "source": [
        "# Defining the tuple\n",
        "colors = ('red', 'green', 'blue', 'yellow')\n",
        "\n",
        "# Accessing the second-to-last element\n",
        "second_last_element = colors[-2]\n",
        "\n",
        "# Printing the result\n",
        "print(second_last_element)\n"
      ],
      "metadata": {
        "colab": {
          "base_uri": "https://localhost:8080/"
        },
        "id": "yqE0qGp99wCf",
        "outputId": "6d9d4727-3296-4a75-e749-6d77aa700854"
      },
      "execution_count": 20,
      "outputs": [
        {
          "output_type": "stream",
          "name": "stdout",
          "text": [
            "blue\n"
          ]
        }
      ]
    },
    {
      "cell_type": "markdown",
      "source": [
        "QUESTION 13: Write a code to find the minimum number in the tuple (10, 20, 5, 15)."
      ],
      "metadata": {
        "id": "bfB411Ip93qO"
      }
    },
    {
      "cell_type": "code",
      "source": [
        "# Defining the tuple\n",
        "numbers = (10, 20, 5, 15)\n",
        "\n",
        "# Finding the minimum number\n",
        "min_number = min(numbers)\n",
        "\n",
        "# Printing the result\n",
        "print(min_number)\n"
      ],
      "metadata": {
        "colab": {
          "base_uri": "https://localhost:8080/"
        },
        "id": "ijapyw-p96pu",
        "outputId": "182a3eb9-4213-4ed9-9e63-b4f749cc8600"
      },
      "execution_count": 21,
      "outputs": [
        {
          "output_type": "stream",
          "name": "stdout",
          "text": [
            "5\n"
          ]
        }
      ]
    },
    {
      "cell_type": "markdown",
      "source": [
        "QUESTION 14: Write a code to find the index of the element \"cat\" in the tuple ('dog', 'cat', 'rabbit')."
      ],
      "metadata": {
        "id": "u8AYANnZ-HuF"
      }
    },
    {
      "cell_type": "code",
      "source": [
        "# Defining the tuple\n",
        "animals = ('dog', 'cat', 'rabbit')\n",
        "\n",
        "# Finding the index of 'cat'\n",
        "cat_index = animals.index('cat')\n",
        "\n",
        "# Printing the result\n",
        "print(cat_index)"
      ],
      "metadata": {
        "colab": {
          "base_uri": "https://localhost:8080/"
        },
        "id": "PDJnHYVU-PjQ",
        "outputId": "99d9b762-0c39-41c5-f6b5-91f171b22a34"
      },
      "execution_count": 22,
      "outputs": [
        {
          "output_type": "stream",
          "name": "stdout",
          "text": [
            "1\n"
          ]
        }
      ]
    },
    {
      "cell_type": "markdown",
      "source": [
        "QUESTION 15: Write a code to create a tuple containing three different fruits and check if \"kiwi\" is in it."
      ],
      "metadata": {
        "id": "O38MSxqr-Vo1"
      }
    },
    {
      "cell_type": "code",
      "source": [
        "# Defining the tuple with three different fruits\n",
        "fruits = (\"apple\", \"banana\", \"mango\")\n",
        "\n",
        "# Checking if \"kiwi\" is in the tuple\n",
        "is_kiwi_present = \"kiwi\" in fruits\n",
        "\n",
        "# Printing the result\n",
        "print(is_kiwi_present)\n"
      ],
      "metadata": {
        "colab": {
          "base_uri": "https://localhost:8080/"
        },
        "id": "KlesVfms-W0v",
        "outputId": "e48db378-7bdb-40a3-95fe-f4662adc6105"
      },
      "execution_count": 23,
      "outputs": [
        {
          "output_type": "stream",
          "name": "stdout",
          "text": [
            "False\n"
          ]
        }
      ]
    },
    {
      "cell_type": "markdown",
      "source": [
        "QUESTION 16: Write a code to create a set with the elements 'a', 'b', 'c' and print it.\n",
        "\n"
      ],
      "metadata": {
        "id": "CcU1tmnr-daQ"
      }
    },
    {
      "cell_type": "code",
      "source": [
        "# Creating a set with elements 'a', 'b', 'c'\n",
        "my_set = {'a', 'b', 'c'}\n",
        "\n",
        "# Printing the set\n",
        "print(my_set)\n"
      ],
      "metadata": {
        "colab": {
          "base_uri": "https://localhost:8080/"
        },
        "id": "tTBAfurZ-eX1",
        "outputId": "464ab2ff-4226-43e7-d2f9-8616e6c96f0e"
      },
      "execution_count": 24,
      "outputs": [
        {
          "output_type": "stream",
          "name": "stdout",
          "text": [
            "{'a', 'b', 'c'}\n"
          ]
        }
      ]
    },
    {
      "cell_type": "markdown",
      "source": [
        "QUESTION 17: Write a code to clear all elements from the set {1, 2, 3, 4, 5}.\n"
      ],
      "metadata": {
        "id": "pk-1POj0-xlm"
      }
    },
    {
      "cell_type": "code",
      "source": [
        "# Creating a set with elements {1, 2, 3, 4, 5}\n",
        "my_set = {1, 2, 3, 4, 5}\n",
        "\n",
        "# Clearing all elements from the set\n",
        "my_set.clear()\n",
        "\n",
        "# Printing the set after clearing\n",
        "print(my_set)\n"
      ],
      "metadata": {
        "colab": {
          "base_uri": "https://localhost:8080/"
        },
        "id": "SUw598Vq-0ns",
        "outputId": "9b995236-b931-4a05-85d7-d60db157a797"
      },
      "execution_count": 25,
      "outputs": [
        {
          "output_type": "stream",
          "name": "stdout",
          "text": [
            "set()\n"
          ]
        }
      ]
    },
    {
      "cell_type": "markdown",
      "source": [
        "QUESTION 18: Write a code to remove the element 4 from the set {1, 2, 3, 4}.\n",
        "\n"
      ],
      "metadata": {
        "id": "UXYDsDv5-2Rs"
      }
    },
    {
      "cell_type": "code",
      "source": [
        "# Creating a set with elements {1, 2, 3, 4}\n",
        "my_set = {1, 2, 3, 4}\n",
        "\n",
        "# Removing the element 4 from the set\n",
        "my_set.remove(4)\n",
        "\n",
        "# Printing the set after removal\n",
        "print(my_set)\n"
      ],
      "metadata": {
        "colab": {
          "base_uri": "https://localhost:8080/"
        },
        "id": "y0UPtnRx-4qN",
        "outputId": "aab5f307-4fae-41ed-938c-11e667cfa10b"
      },
      "execution_count": 26,
      "outputs": [
        {
          "output_type": "stream",
          "name": "stdout",
          "text": [
            "{1, 2, 3}\n"
          ]
        }
      ]
    },
    {
      "cell_type": "markdown",
      "source": [
        "QUESTION 19: Write a code to find the union of two sets {1, 2, 3} and {3, 4, 5}.\n",
        "\n"
      ],
      "metadata": {
        "id": "P1aasaic-8NE"
      }
    },
    {
      "cell_type": "code",
      "source": [
        "# Creating two sets\n",
        "set1 = {1, 2, 3}\n",
        "set2 = {3, 4, 5}\n",
        "\n",
        "# Finding the union of the sets\n",
        "union_set = set1.union(set2)\n",
        "\n",
        "# Printing the result\n",
        "print(union_set)"
      ],
      "metadata": {
        "colab": {
          "base_uri": "https://localhost:8080/"
        },
        "id": "9Ta8aJ_v-_g8",
        "outputId": "883448be-afa9-45f3-a924-2e48ad227aec"
      },
      "execution_count": 27,
      "outputs": [
        {
          "output_type": "stream",
          "name": "stdout",
          "text": [
            "{1, 2, 3, 4, 5}\n"
          ]
        }
      ]
    },
    {
      "cell_type": "markdown",
      "source": [
        "QUESTION 20: Write a code to find the intersection of two sets {1, 2, 3} and {2, 3, 4}."
      ],
      "metadata": {
        "id": "QWRWbajp_IC0"
      }
    },
    {
      "cell_type": "code",
      "source": [
        "# Creating two sets\n",
        "set1 = {1, 2, 3}\n",
        "set2 = {2, 3, 4}\n",
        "\n",
        "# Finding the intersection of the sets\n",
        "intersection_set = set1.intersection(set2)\n",
        "\n",
        "# Printing the result\n",
        "print(intersection_set)"
      ],
      "metadata": {
        "colab": {
          "base_uri": "https://localhost:8080/"
        },
        "id": "QocJlopy_JH-",
        "outputId": "de368306-d00d-485f-d9c2-4bd4f4ed8299"
      },
      "execution_count": 28,
      "outputs": [
        {
          "output_type": "stream",
          "name": "stdout",
          "text": [
            "{2, 3}\n"
          ]
        }
      ]
    },
    {
      "cell_type": "markdown",
      "source": [
        "\n",
        "QUESTION 21: Write a code to create a dictionary with the keys \"name\", \"age\", and \"city\", and print it."
      ],
      "metadata": {
        "id": "kw4uF14y_cPr"
      }
    },
    {
      "cell_type": "code",
      "source": [
        "# Creating a dictionary with keys \"name\", \"age\", and \"city\"\n",
        "person_info = {\n",
        "    \"name\": \"John\",\n",
        "    \"age\": 25,\n",
        "    \"city\": \"New York\"\n",
        "}\n",
        "\n",
        "# Printing the dictionary\n",
        "print(person_info)"
      ],
      "metadata": {
        "colab": {
          "base_uri": "https://localhost:8080/"
        },
        "id": "S4GBX0Xo_9s6",
        "outputId": "473e8066-8f49-4b19-9747-5f2fc3fd0fae"
      },
      "execution_count": 29,
      "outputs": [
        {
          "output_type": "stream",
          "name": "stdout",
          "text": [
            "{'name': 'John', 'age': 25, 'city': 'New York'}\n"
          ]
        }
      ]
    },
    {
      "cell_type": "markdown",
      "source": [
        "QUESTION 22: Write a code to add a new key-value pair \"country\": \"USA\" to the dictionary {'name': 'John', 'age': 25}."
      ],
      "metadata": {
        "id": "3b5VeN86ABLa"
      }
    },
    {
      "cell_type": "code",
      "source": [
        "# Define the dictionary\n",
        "person = {'name': 'John', 'age': 25}\n",
        "\n",
        "# Add a new key-value pair\n",
        "person['country'] = 'USA'\n",
        "\n",
        "# Print the updated dictionary\n",
        "print(person)\n"
      ],
      "metadata": {
        "colab": {
          "base_uri": "https://localhost:8080/"
        },
        "id": "D9cLeTpOAYF6",
        "outputId": "6633a843-95b3-4116-96bd-0f8f9ed3f19d"
      },
      "execution_count": 30,
      "outputs": [
        {
          "output_type": "stream",
          "name": "stdout",
          "text": [
            "{'name': 'John', 'age': 25, 'country': 'USA'}\n"
          ]
        }
      ]
    },
    {
      "cell_type": "markdown",
      "source": [
        "QUESTION 23: Write a code to access the value associated with the key \"name\" in the dictionary {'name': 'Alice', 'age': 30'}.\n",
        "\n"
      ],
      "metadata": {
        "id": "FE4VmicmAe_r"
      }
    },
    {
      "cell_type": "code",
      "source": [
        "# Define the dictionary\n",
        "person = {'name': 'Alice', 'age': 30}\n",
        "\n",
        "# Access the value associated with the key \"name\"\n",
        "print(person['name'])\n"
      ],
      "metadata": {
        "colab": {
          "base_uri": "https://localhost:8080/"
        },
        "id": "6NVa7t_FAk0R",
        "outputId": "e954949e-d32b-4c62-95e7-ac9e78f1cdec"
      },
      "execution_count": 31,
      "outputs": [
        {
          "output_type": "stream",
          "name": "stdout",
          "text": [
            "Alice\n"
          ]
        }
      ]
    },
    {
      "cell_type": "markdown",
      "source": [
        "QUESTION 24: Write a code to remove the key \"age\" from the dictionary {'name': 'Bob', 'age': 22, 'city': 'New York'}."
      ],
      "metadata": {
        "id": "fgQFbQgvAo75"
      }
    },
    {
      "cell_type": "code",
      "source": [
        "# Creating the dictionary\n",
        "person = {'name': 'Bob', 'age': 22, 'city': 'New York'}\n",
        "\n",
        "# Removing the key \"age\"\n",
        "del person['age']\n",
        "\n",
        "# Printing the updated dictionary\n",
        "print(person)\n"
      ],
      "metadata": {
        "colab": {
          "base_uri": "https://localhost:8080/"
        },
        "id": "XKl_JAaQAt_x",
        "outputId": "dc335644-932e-4d2c-8819-f9b81ad5e44d"
      },
      "execution_count": 32,
      "outputs": [
        {
          "output_type": "stream",
          "name": "stdout",
          "text": [
            "{'name': 'Bob', 'city': 'New York'}\n"
          ]
        }
      ]
    },
    {
      "cell_type": "markdown",
      "source": [
        "QUESTION 25: Write a code to check if the key \"city\" exists in the dictionary {'name': 'Alice', 'city': 'Paris'}."
      ],
      "metadata": {
        "id": "oItNIdbaBur5"
      }
    },
    {
      "cell_type": "code",
      "source": [
        "# Define the dictionary\n",
        "my_dict = {'name': 'Alice', 'city': 'Paris'}\n",
        "\n",
        "# Check if the key \"city\" exists\n",
        "if 'city' in my_dict:\n",
        "    print(\"Key 'city' exists in the dictionary.\")\n",
        "else:\n",
        "    print(\"Key 'city' does not exist in the dictionary.\")\n"
      ],
      "metadata": {
        "colab": {
          "base_uri": "https://localhost:8080/"
        },
        "id": "qX9wopc3Bvi0",
        "outputId": "b0395748-1b05-4a35-aca3-42be02bdba8c"
      },
      "execution_count": 33,
      "outputs": [
        {
          "output_type": "stream",
          "name": "stdout",
          "text": [
            "Key 'city' exists in the dictionary.\n"
          ]
        }
      ]
    },
    {
      "cell_type": "markdown",
      "source": [
        "QUESTION 26: Write a code to create a list, a tuple, and a dictionary, and print them all."
      ],
      "metadata": {
        "id": "nwThQZSkB00X"
      }
    },
    {
      "cell_type": "code",
      "source": [
        "# Creating a list, a tuple, and a dictionary\n",
        "my_list = [1, 2, 3, 4, 5]\n",
        "my_tuple = (10, 20, 30, 40, 50)\n",
        "my_dict = {\"name\": \"Alice\", \"age\": 25, \"city\": \"New York\"}\n",
        "\n",
        "# Printing all\n",
        "print(\"List:\", my_list)\n",
        "print(\"Tuple:\", my_tuple)\n",
        "print(\"Dictionary:\", my_dict)\n"
      ],
      "metadata": {
        "colab": {
          "base_uri": "https://localhost:8080/"
        },
        "id": "obW26aMUB1zn",
        "outputId": "994fa9eb-2dcd-4c42-da43-f22c562c232c"
      },
      "execution_count": 34,
      "outputs": [
        {
          "output_type": "stream",
          "name": "stdout",
          "text": [
            "List: [1, 2, 3, 4, 5]\n",
            "Tuple: (10, 20, 30, 40, 50)\n",
            "Dictionary: {'name': 'Alice', 'age': 25, 'city': 'New York'}\n"
          ]
        }
      ]
    },
    {
      "cell_type": "markdown",
      "source": [
        "QUESTION 27: Write a code to create a list of 5 random numbers between 1 and 100, sort it in ascending order, and print the result.\n",
        "\n"
      ],
      "metadata": {
        "id": "c5BMFaWzB7I3"
      }
    },
    {
      "cell_type": "code",
      "source": [
        "# Importing the random module\n",
        "import random\n",
        "\n",
        "# Generating a list of 5 random numbers between 1 and 100\n",
        "random_numbers = [random.randint(1, 100) for _ in range(5)]\n",
        "\n",
        "# Sorting the list in ascending order\n",
        "random_numbers.sort()\n",
        "\n",
        "# Printing the sorted list\n",
        "print(\"Sorted random numbers:\", random_numbers)\n"
      ],
      "metadata": {
        "colab": {
          "base_uri": "https://localhost:8080/"
        },
        "id": "eyFnyUvxB8Nn",
        "outputId": "970ffd06-74a7-4a26-8c3f-5f8c3c96fa4a"
      },
      "execution_count": 35,
      "outputs": [
        {
          "output_type": "stream",
          "name": "stdout",
          "text": [
            "Sorted random numbers: [50, 61, 66, 95, 95]\n"
          ]
        }
      ]
    },
    {
      "cell_type": "markdown",
      "source": [
        "QUESTION 28: Write a code to create a list with strings and print the element at the third index."
      ],
      "metadata": {
        "id": "mNXIDjuVCDQ2"
      }
    },
    {
      "cell_type": "code",
      "source": [
        "# Creating a list with strings\n",
        "string_list = [\"apple\", \"banana\", \"cherry\", \"date\", \"elderberry\"]\n",
        "\n",
        "# Printing the element at the third index\n",
        "print(string_list[3])\n"
      ],
      "metadata": {
        "colab": {
          "base_uri": "https://localhost:8080/"
        },
        "id": "zsTbRzZWCEFO",
        "outputId": "b7479347-0348-4f05-cd61-0944941d2387"
      },
      "execution_count": 36,
      "outputs": [
        {
          "output_type": "stream",
          "name": "stdout",
          "text": [
            "date\n"
          ]
        }
      ]
    },
    {
      "cell_type": "markdown",
      "source": [
        "QUESTION 29: Write a code to combine two dictionaries into one and print the result."
      ],
      "metadata": {
        "id": "zoJlIePRCKtG"
      }
    },
    {
      "cell_type": "code",
      "source": [
        "# Define two dictionaries\n",
        "dict1 = {'a': 1, 'b': 2}\n",
        "dict2 = {'c': 3, 'd': 4}\n",
        "\n",
        "# Merge dictionaries\n",
        "combined_dict = {**dict1, **dict2}\n",
        "\n",
        "# Print result\n",
        "print(combined_dict)\n"
      ],
      "metadata": {
        "colab": {
          "base_uri": "https://localhost:8080/"
        },
        "id": "gwrkPG6cCO9e",
        "outputId": "140dd991-e747-4cfe-d67b-94a8a9a5d377"
      },
      "execution_count": 37,
      "outputs": [
        {
          "output_type": "stream",
          "name": "stdout",
          "text": [
            "{'a': 1, 'b': 2, 'c': 3, 'd': 4}\n"
          ]
        }
      ]
    },
    {
      "cell_type": "markdown",
      "source": [
        "QUESTION 30: Write a code to convert a list of strings into a set.\n",
        "\n"
      ],
      "metadata": {
        "id": "CZtvNiCaCSTW"
      }
    },
    {
      "cell_type": "code",
      "source": [
        "# Define a list of strings\n",
        "string_list = [\"apple\", \"banana\", \"cherry\", \"apple\", \"banana\"]\n",
        "\n",
        "# Convert the list into a set\n",
        "string_set = set(string_list)\n",
        "\n",
        "# Print the result\n",
        "print(string_set)\n"
      ],
      "metadata": {
        "colab": {
          "base_uri": "https://localhost:8080/"
        },
        "id": "yhxy5at5CXPP",
        "outputId": "7fc0b982-7537-4f5e-a144-83c1fbf65274"
      },
      "execution_count": 38,
      "outputs": [
        {
          "output_type": "stream",
          "name": "stdout",
          "text": [
            "{'apple', 'cherry', 'banana'}\n"
          ]
        }
      ]
    }
  ]
}